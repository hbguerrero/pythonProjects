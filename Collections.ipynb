{
  "nbformat": 4,
  "nbformat_minor": 0,
  "metadata": {
    "colab": {
      "provenance": [],
      "authorship_tag": "ABX9TyPzKFqlqPmIioGIIG7wFgMJ",
      "include_colab_link": true
    },
    "kernelspec": {
      "name": "python3",
      "display_name": "Python 3"
    },
    "language_info": {
      "name": "python"
    }
  },
  "cells": [
    {
      "cell_type": "markdown",
      "metadata": {
        "id": "view-in-github",
        "colab_type": "text"
      },
      "source": [
        "<a href=\"https://colab.research.google.com/github/hbguerrero/pythonProjects/blob/main/Collections.ipynb\" target=\"_parent\"><img src=\"https://colab.research.google.com/assets/colab-badge.svg\" alt=\"Open In Colab\"/></a>"
      ]
    },
    {
      "cell_type": "markdown",
      "source": [
        "# Collections\n",
        "1. List\n",
        "2. Tuples\n",
        "3. Dictionaries\n",
        "4. Sets\n",
        "5. Ranges\n",
        "\n",
        "\n",
        "Reference: https://python-textbok.readthedocs.io/en/latest/index.html"
      ],
      "metadata": {
        "id": "qnm7XK8skEi6"
      }
    },
    {
      "cell_type": "markdown",
      "source": [
        "# **Sets**"
      ],
      "metadata": {
        "id": "5e2SS0iAkWE4"
      }
    },
    {
      "cell_type": "markdown",
      "source": [
        "The Python set type is called set. A set is a collection of unique elements. If we add multiple copies of the same element to a set, the duplicates will be eliminated, and we will be left with one of each element. To define a set literal, we put a comma-separated list of values inside curly brackets ({ and }):"
      ],
      "metadata": {
        "id": "k6pvhznerYIn"
      }
    },
    {
      "cell_type": "code",
      "source": [
        "animals = {'cat', 'dog', 'goldfish', 'canary', 'cat'}\n",
        "print(animals) # the set will only contain one cat"
      ],
      "metadata": {
        "colab": {
          "base_uri": "https://localhost:8080/"
        },
        "id": "C3PenJ2ukkRM",
        "outputId": "0d8d3756-a4b8-4869-cdb1-4b48bfcc70c5"
      },
      "execution_count": null,
      "outputs": [
        {
          "output_type": "stream",
          "name": "stdout",
          "text": [
            "{'cat', 'canary', 'goldfish', 'dog'}\n"
          ]
        }
      ]
    },
    {
      "cell_type": "markdown",
      "source": [
        "We can perform various set operations on sets:"
      ],
      "metadata": {
        "id": "zAcEIVkgrod5"
      }
    },
    {
      "cell_type": "code",
      "source": [
        "even_numbers = {2, 4, 6, 8, 10}\n",
        "big_numbers = {6, 7, 8, 9, 10}\n",
        "\n",
        "# subtraction: big numbers which are not even\n",
        "print(big_numbers - even_numbers)\n",
        "\n",
        "# union: numbers which are big or even\n",
        "print(big_numbers | even_numbers)\n",
        "\n",
        "# intersection: numbers which are big and even\n",
        "print(big_numbers & even_numbers)"
      ],
      "metadata": {
        "colab": {
          "base_uri": "https://localhost:8080/"
        },
        "id": "40xfp5G8qKuw",
        "outputId": "d93ddd20-2f17-44e8-d651-4604958a492e"
      },
      "execution_count": null,
      "outputs": [
        {
          "output_type": "stream",
          "name": "stdout",
          "text": [
            "{9, 7}\n",
            "{2, 4, 6, 7, 8, 9, 10}\n",
            "{8, 10, 6}\n"
          ]
        }
      ]
    },
    {
      "cell_type": "markdown",
      "source": [
        "It is important to note that unlike lists and tuples sets are not ordered. When we print a set, the order of the elements will be random. If we want to process the contents of a set in a particular order, we will first need to convert it to a list or tuple and sort it.\n",
        "\n",
        "The sorted function returns a list object:"
      ],
      "metadata": {
        "id": "1cCmINBXsYok"
      }
    },
    {
      "cell_type": "code",
      "source": [
        "print(animals)\n",
        "print(sorted(animals))"
      ],
      "metadata": {
        "colab": {
          "base_uri": "https://localhost:8080/"
        },
        "id": "bxovYAQuqNRw",
        "outputId": "bd746536-0f6c-4e86-bedd-94a2379e4cf9"
      },
      "execution_count": null,
      "outputs": [
        {
          "output_type": "stream",
          "name": "stdout",
          "text": [
            "{'cat', 'canary', 'goldfish', 'dog'}\n",
            "['canary', 'cat', 'dog', 'goldfish']\n"
          ]
        }
      ]
    },
    {
      "cell_type": "markdown",
      "source": [
        "How do we make an empty set? We have to use the set function. Dictionaries used curly brackets before sets adopted them, so an empty set of curly brackets is actually an empty dictionary:"
      ],
      "metadata": {
        "id": "1LlgTWejsxSL"
      }
    },
    {
      "cell_type": "code",
      "source": [
        "# this is an empty dictionary\n",
        "a = {}\n",
        "\n",
        "# this is how we make an empty set\n",
        "b = set()"
      ],
      "metadata": {
        "id": "q54lCPPBsb3G"
      },
      "execution_count": null,
      "outputs": []
    },
    {
      "cell_type": "markdown",
      "source": [
        "# **Ranges**\n",
        "\n",
        "*range* is another kind of immutable sequence type. It is very specialised – we use it to create ranges of integers. Ranges are also generators. We will find out more about generators after, but for now we just need to know that the numbers in the range are generated one at a time as they are needed, and not all at once. In the examples below, we convert each range to a list so that all the numbers are generated and we can print them out:"
      ],
      "metadata": {
        "id": "7DihV00hvSOb"
      }
    },
    {
      "cell_type": "code",
      "source": [
        "# print the integers from 0 to 9\n",
        "print(list(range(10)))\n",
        "\n",
        "# print the integers from 1 to 10\n",
        "print(list(range(1, 11)))\n",
        "\n",
        "# print the odd integers from 1 to 10\n",
        "print(list(range(1, 11, 2)))"
      ],
      "metadata": {
        "colab": {
          "base_uri": "https://localhost:8080/"
        },
        "id": "sNPdPqfBsz7N",
        "outputId": "19bc3947-9008-499e-9d0f-b6f3b47d9de9"
      },
      "execution_count": null,
      "outputs": [
        {
          "output_type": "stream",
          "name": "stdout",
          "text": [
            "[0, 1, 2, 3, 4, 5, 6, 7, 8, 9]\n",
            "[1, 2, 3, 4, 5, 6, 7, 8, 9, 10]\n",
            "[1, 3, 5, 7, 9]\n"
          ]
        }
      ]
    },
    {
      "cell_type": "markdown",
      "source": [
        "# **Converting between collection types**\n",
        "\n",
        "We can convert between the different sequence types quite easily by using the type functions to cast sequences to the desired types – just like we would use float and int to convert numbers:"
      ],
      "metadata": {
        "id": "RlbuLMst1lFr"
      }
    },
    {
      "cell_type": "code",
      "source": [
        "animals = ['cat', 'dog', 'goldfish', 'canary', 'cat']\n",
        "\n",
        "animals_set = set(animals)\n",
        "animals_unique_list = list(animals_set)\n",
        "animals_unique_tuple = tuple(animals_unique_list)"
      ],
      "metadata": {
        "id": "JWioWRKGvsQX"
      },
      "execution_count": null,
      "outputs": []
    },
    {
      "cell_type": "markdown",
      "source": [
        "We have to be more careful when converting a dictionary to a sequence: do we want to use the keys, the values or pairs of keys and values?\n",
        "\n",
        "If we convert the key-value pairs of a dictionary to a sequence, each pair will be converted to a tuple containing the key followed by the value."
      ],
      "metadata": {
        "id": "8exS2Tvv18pc"
      }
    },
    {
      "cell_type": "code",
      "source": [
        "marbles = {\"red\": 34, \"green\": 30, \"brown\": 31, \"yellow\": 29 }\n",
        "\n",
        "colours = list(marbles) # the keys will be used by default\n",
        "counts = tuple(marbles.values()) # but we can use a view to get the values\n",
        "marbles_set = set(marbles.items()) # or the key-value pairs"
      ],
      "metadata": {
        "id": "kiMwl7K819NZ"
      },
      "execution_count": null,
      "outputs": []
    },
    {
      "cell_type": "markdown",
      "source": [
        "We can also convert a sequence to a dictionary, but only if it’s a sequence of pairs – each pair must itself be a sequence with two values:"
      ],
      "metadata": {
        "id": "zO7PR4_r6OMB"
      }
    },
    {
      "cell_type": "code",
      "source": [
        "# Python doesn't know how to convert this into a dictionary\n",
        "#dict([1, 2, 3, 4])  #Uncomment to verify\n",
        "\n",
        "# but this will work\n",
        "dict([(1, 2), (3, 4)])"
      ],
      "metadata": {
        "colab": {
          "base_uri": "https://localhost:8080/"
        },
        "id": "DsxanLR72AZ-",
        "outputId": "4805d570-c1af-4b82-8273-5b6403c9d0a6"
      },
      "execution_count": null,
      "outputs": [
        {
          "output_type": "execute_result",
          "data": {
            "text/plain": [
              "{1: 2, 3: 4}"
            ]
          },
          "metadata": {},
          "execution_count": 22
        }
      ]
    },
    {
      "cell_type": "markdown",
      "source": [
        "# **A bit more about strings**\n",
        "Strings are also a kind of sequence type – they are sequences of characters, and share some properties with other sequences. For example, we can find the length of a string or the index of a character in the string, and we can access individual elements of strings or slices:"
      ],
      "metadata": {
        "id": "0gWp-FBTNjsY"
      }
    },
    {
      "cell_type": "code",
      "source": [
        "s = \"abracadabra\"\n",
        "\n",
        "print(len(s))\n",
        "print(s.index(\"a\"))\n",
        "\n",
        "print(s[0])\n",
        "print(s[3:5])\n"
      ],
      "metadata": {
        "colab": {
          "base_uri": "https://localhost:8080/"
        },
        "id": "FF6sM4II5rCT",
        "outputId": "74a7c7b3-eda9-473f-d7a6-b292d4f9e5f9"
      },
      "execution_count": null,
      "outputs": [
        {
          "output_type": "stream",
          "name": "stdout",
          "text": [
            "11\n",
            "0\n",
            "a\n",
            "ac\n"
          ]
        }
      ]
    },
    {
      "cell_type": "markdown",
      "source": [
        "Remember that strings are immutable – modifying characters in-place isn’t allowed:"
      ],
      "metadata": {
        "id": "N39jowWWOENX"
      }
    },
    {
      "cell_type": "code",
      "source": [
        "# this will give us an error\n",
        "s[0] = \"b\""
      ],
      "metadata": {
        "colab": {
          "base_uri": "https://localhost:8080/",
          "height": 159
        },
        "id": "cGS3JG1MN8wk",
        "outputId": "edf0e390-e70f-4d7e-8f5a-d6c9d3659193"
      },
      "execution_count": null,
      "outputs": [
        {
          "output_type": "error",
          "ename": "TypeError",
          "evalue": "'str' object does not support item assignment",
          "traceback": [
            "\u001b[0;31m---------------------------------------------------------------------------\u001b[0m",
            "\u001b[0;31mTypeError\u001b[0m                                 Traceback (most recent call last)",
            "\u001b[0;32m<ipython-input-2-911c3b1389b6>\u001b[0m in \u001b[0;36m<cell line: 0>\u001b[0;34m()\u001b[0m\n\u001b[1;32m      1\u001b[0m \u001b[0;31m# this will give us an error\u001b[0m\u001b[0;34m\u001b[0m\u001b[0;34m\u001b[0m\u001b[0m\n\u001b[0;32m----> 2\u001b[0;31m \u001b[0ms\u001b[0m\u001b[0;34m[\u001b[0m\u001b[0;36m0\u001b[0m\u001b[0;34m]\u001b[0m \u001b[0;34m=\u001b[0m \u001b[0;34m\"b\"\u001b[0m\u001b[0;34m\u001b[0m\u001b[0;34m\u001b[0m\u001b[0m\n\u001b[0m",
            "\u001b[0;31mTypeError\u001b[0m: 'str' object does not support item assignment"
          ]
        }
      ]
    },
    {
      "cell_type": "markdown",
      "source": [
        "The membership operator has special behaviour when applied to strings: we can use it to determine if a string contains a single character as an element, but we can also use it to check if a string contains a substring:"
      ],
      "metadata": {
        "id": "XIqhJ8TKOXML"
      }
    },
    {
      "cell_type": "code",
      "source": [
        "print('h' in 'abcd') # False"
      ],
      "metadata": {
        "colab": {
          "base_uri": "https://localhost:8080/"
        },
        "id": "Z9fLERutOfOV",
        "outputId": "4a02745b-6909-4b9c-bd00-2bd38d0d10bc"
      },
      "execution_count": null,
      "outputs": [
        {
          "output_type": "stream",
          "name": "stdout",
          "text": [
            "False\n"
          ]
        }
      ]
    },
    {
      "cell_type": "code",
      "source": [
        "print('ab' in 'abcd') # False"
      ],
      "metadata": {
        "colab": {
          "base_uri": "https://localhost:8080/"
        },
        "id": "ho6ir7aROhUX",
        "outputId": "bc15f717-a08f-4074-c427-bb65e22ff260"
      },
      "execution_count": null,
      "outputs": [
        {
          "output_type": "stream",
          "name": "stdout",
          "text": [
            "True\n"
          ]
        }
      ]
    },
    {
      "cell_type": "code",
      "source": [
        "# this doesn't work for lists\n",
        "print(['a', 'b'] in ['a', 'b', 'c', 'd']) # False"
      ],
      "metadata": {
        "colab": {
          "base_uri": "https://localhost:8080/"
        },
        "id": "7wbG4u5oOpTk",
        "outputId": "b99ce2b7-a596-48bb-fb9a-83a2e0130927"
      },
      "execution_count": null,
      "outputs": [
        {
          "output_type": "stream",
          "name": "stdout",
          "text": [
            "False\n"
          ]
        }
      ]
    },
    {
      "cell_type": "markdown",
      "source": [
        "We can easily convert a string to a list of characters:"
      ],
      "metadata": {
        "id": "pvpPjgtbOz5f"
      }
    },
    {
      "cell_type": "code",
      "source": [
        "abc_list = list(\"abracadabra\")\n",
        "print(abc_list)"
      ],
      "metadata": {
        "colab": {
          "base_uri": "https://localhost:8080/"
        },
        "id": "0WPUV2pROrlh",
        "outputId": "5947b33c-75f1-4afd-9112-ad23e4d89272"
      },
      "execution_count": null,
      "outputs": [
        {
          "output_type": "stream",
          "name": "stdout",
          "text": [
            "['a', 'b', 'r', 'a', 'c', 'a', 'd', 'a', 'b', 'r', 'a']\n"
          ]
        }
      ]
    },
    {
      "cell_type": "markdown",
      "source": [
        "What if we want to convert a list of characters into a string? Using the *str* function on the list will just give us a printable string of the list, including commas, quotes and brackets. To join a sequence of characters (or longer strings) together into a single string, we have to use join.\n",
        "\n",
        "*join* is not a function or a sequence method – it’s a string method which takes a sequence of strings as a parameter. When we call a string’s join method, we are using that string to glue the strings in the sequence together. For example, to join a list of single characters into a string, with no spaces between them, we call the join method on the empty string:"
      ],
      "metadata": {
        "id": "zcOICaaJhfvt"
      }
    },
    {
      "cell_type": "code",
      "source": [
        "l = ['a', 'b', 'r', 'a', 'c', 'a', 'd', 'a', 'b', 'r', 'a']\n",
        "\n",
        "s = \"\".join(l)\n",
        "print(s)"
      ],
      "metadata": {
        "colab": {
          "base_uri": "https://localhost:8080/"
        },
        "id": "eDyqP1BLO2Rj",
        "outputId": "a6894fbd-e788-469e-def5-897db3c96664"
      },
      "execution_count": null,
      "outputs": [
        {
          "output_type": "stream",
          "name": "stdout",
          "text": [
            "abracadabra\n"
          ]
        }
      ]
    },
    {
      "cell_type": "code",
      "source": [
        "animals = ('cat', 'dog', 'fish')"
      ],
      "metadata": {
        "id": "HRX_r6T7h20E"
      },
      "execution_count": null,
      "outputs": []
    },
    {
      "cell_type": "code",
      "source": [
        "# a space-separated list\n",
        "print(\" \".join(animals))"
      ],
      "metadata": {
        "colab": {
          "base_uri": "https://localhost:8080/"
        },
        "id": "47j1VTYDiHLY",
        "outputId": "afea085d-fe4d-4444-ac9e-2d0cb21b0a4e"
      },
      "execution_count": null,
      "outputs": [
        {
          "output_type": "stream",
          "name": "stdout",
          "text": [
            "cat dog fish\n"
          ]
        }
      ]
    },
    {
      "cell_type": "code",
      "source": [
        "# a comma-separated list\n",
        "print(\",\".join(animals))"
      ],
      "metadata": {
        "colab": {
          "base_uri": "https://localhost:8080/"
        },
        "id": "cj092k8niKqm",
        "outputId": "256f0ff7-1c4d-4dfc-86c7-2336f0bab2bd"
      },
      "execution_count": null,
      "outputs": [
        {
          "output_type": "stream",
          "name": "stdout",
          "text": [
            "cat,dog,fish\n"
          ]
        }
      ]
    },
    {
      "cell_type": "code",
      "source": [
        "# a comma-separated list with spaces\n",
        "print(\", \".join(animals))"
      ],
      "metadata": {
        "colab": {
          "base_uri": "https://localhost:8080/"
        },
        "id": "mOyP28oDiNQv",
        "outputId": "11c8192e-9197-49f9-f95f-a0e4a22877f9"
      },
      "execution_count": null,
      "outputs": [
        {
          "output_type": "stream",
          "name": "stdout",
          "text": [
            "cat, dog, fish\n"
          ]
        }
      ]
    },
    {
      "cell_type": "markdown",
      "source": [
        "The opposite of joining is splitting. We can split up a string into a list of strings by using the split method. If called without any parameters, split divides up a string into words, using any number of consecutive whitespace characters as a delimiter. We can use additional parameters to specify a different delimiter as well as a limit on the maximum number of splits to perform:"
      ],
      "metadata": {
        "id": "kdmjzPM7iYT9"
      }
    },
    {
      "cell_type": "code",
      "source": [
        "print(\"cat    dog fish\\n\".split())"
      ],
      "metadata": {
        "colab": {
          "base_uri": "https://localhost:8080/"
        },
        "id": "YVj2Q5bciPzj",
        "outputId": "3a5c6514-3ce1-4394-f747-dbfd59b39dd9"
      },
      "execution_count": null,
      "outputs": [
        {
          "output_type": "stream",
          "name": "stdout",
          "text": [
            "['cat', 'dog', 'fish']\n"
          ]
        }
      ]
    },
    {
      "cell_type": "code",
      "source": [
        "print(\"cat|dog|fish\".split(\"|\"))"
      ],
      "metadata": {
        "colab": {
          "base_uri": "https://localhost:8080/"
        },
        "id": "FvQG-31-iglW",
        "outputId": "968fa917-55e3-496e-dc48-68ee4d45ba05"
      },
      "execution_count": null,
      "outputs": [
        {
          "output_type": "stream",
          "name": "stdout",
          "text": [
            "['cat', 'dog', 'fish']\n"
          ]
        }
      ]
    },
    {
      "cell_type": "code",
      "source": [
        "print(\"cat, dog, fish\".split(\", \"))"
      ],
      "metadata": {
        "colab": {
          "base_uri": "https://localhost:8080/"
        },
        "id": "z3sIc3bgiiCR",
        "outputId": "977f2524-3597-4250-9584-10357fd6733e"
      },
      "execution_count": null,
      "outputs": [
        {
          "output_type": "stream",
          "name": "stdout",
          "text": [
            "['cat', 'dog', 'fish']\n"
          ]
        }
      ]
    },
    {
      "cell_type": "code",
      "source": [
        "print(\"cat, dog, fish\".split(\", \", 2))"
      ],
      "metadata": {
        "colab": {
          "base_uri": "https://localhost:8080/"
        },
        "id": "8MG_AAwRilxT",
        "outputId": "b13fc91d-d366-4cf6-9462-5970aeaa0df2"
      },
      "execution_count": null,
      "outputs": [
        {
          "output_type": "stream",
          "name": "stdout",
          "text": [
            "['cat', 'dog', 'fish']\n"
          ]
        }
      ]
    },
    {
      "cell_type": "markdown",
      "source": [
        "# **Two-dimensional sequences**\n",
        "Most of the sequences we have seen so far have been one-dimensional: each sequence is a row of elements. What if we want to use a sequence to represent a two-dimensional data structure, which has both rows and columns? The easiest way to do this is to make a sequence in which each element is also a sequence. For example, we can create a list of lists (The outer list has four elements, and each of these elements is a list with three elements (which are numbers)):"
      ],
      "metadata": {
        "id": "SpdHlO0ujNMV"
      }
    },
    {
      "cell_type": "code",
      "source": [
        "my_table = [\n",
        "    [1, 2, 3],\n",
        "    [4, 5, 6],\n",
        "    [7, 8, 9],\n",
        "    [10, 11, 12],\n",
        "]"
      ],
      "metadata": {
        "id": "XdQaXg06imtK"
      },
      "execution_count": null,
      "outputs": []
    },
    {
      "cell_type": "markdown",
      "source": [
        "To access one of these numbers, we need to use two indices – one for the outer list, and one for the inner list:"
      ],
      "metadata": {
        "id": "b_bRx_SpjoXC"
      }
    },
    {
      "cell_type": "code",
      "source": [
        "print(my_table[0][0])"
      ],
      "metadata": {
        "colab": {
          "base_uri": "https://localhost:8080/"
        },
        "id": "USTlq76xjYHX",
        "outputId": "d0cc3831-5ed5-492f-8ecc-54cd0afd6bf9"
      },
      "execution_count": null,
      "outputs": [
        {
          "output_type": "stream",
          "name": "stdout",
          "text": [
            "1\n"
          ]
        }
      ]
    },
    {
      "cell_type": "code",
      "source": [
        "# lists are mutable, so we can do this\n",
        "my_table[0][0] = 42\n",
        "print(my_table)"
      ],
      "metadata": {
        "colab": {
          "base_uri": "https://localhost:8080/"
        },
        "id": "lW2U__5JjwMa",
        "outputId": "a8d19808-e578-40d3-a00b-6498e55345bd"
      },
      "execution_count": null,
      "outputs": [
        {
          "output_type": "stream",
          "name": "stdout",
          "text": [
            "[[42, 2, 3], [4, 5, 6], [7, 8, 9], [10, 11, 12]]\n"
          ]
        }
      ]
    },
    {
      "cell_type": "markdown",
      "source": [
        "When we use a two-dimensional sequence to represent tabular data, each inner sequence will have the same length, because a table is rectangular – but nothing is stopping us from constructing two-dimensional sequences which don’t have this property:"
      ],
      "metadata": {
        "id": "kg3fCBsJkIAm"
      }
    },
    {
      "cell_type": "code",
      "source": [
        "my_2d_list = [\n",
        "    [0],\n",
        "    [1, 2, 3, 4],\n",
        "    [5, 6],\n",
        "]\n",
        "print(my_2d_list)"
      ],
      "metadata": {
        "colab": {
          "base_uri": "https://localhost:8080/"
        },
        "id": "zZVqDkrtkHxQ",
        "outputId": "60c837d4-2d37-4dcf-8697-a08fde3703d6"
      },
      "execution_count": null,
      "outputs": [
        {
          "output_type": "stream",
          "name": "stdout",
          "text": [
            "[[0], [1, 2, 3, 4], [5, 6]]\n"
          ]
        }
      ]
    },
    {
      "cell_type": "markdown",
      "source": [
        "We can also make a three-dimensional sequence by making a list of lists of lists:"
      ],
      "metadata": {
        "id": "YABr0519kRrp"
      }
    },
    {
      "cell_type": "code",
      "source": [
        "my_3d_list = [\n",
        "    [[1, 2], [3, 4]],\n",
        "    [[5, 6], [7, 8]],\n",
        "]\n",
        "print(my_3d_list[0][0][0])"
      ],
      "metadata": {
        "colab": {
          "base_uri": "https://localhost:8080/"
        },
        "id": "vOq-CgPejzOV",
        "outputId": "b37c9de4-c68b-42fb-d79d-d2582ab8f5fc"
      },
      "execution_count": null,
      "outputs": [
        {
          "output_type": "stream",
          "name": "stdout",
          "text": [
            "1\n"
          ]
        }
      ]
    },
    {
      "cell_type": "markdown",
      "source": [
        "# **Lists of lists and so for...**"
      ],
      "metadata": {
        "id": "6Sf-ZYgvkwPq"
      }
    },
    {
      "cell_type": "code",
      "source": [
        "my_long_list = [0] * 100 # a long list of zeros\n",
        "print(my_long_list)\n"
      ],
      "metadata": {
        "id": "wVrhjjFUkW7R",
        "colab": {
          "base_uri": "https://localhost:8080/"
        },
        "outputId": "96b503d6-2c51-470f-d330-8859ad64b7df"
      },
      "execution_count": 28,
      "outputs": [
        {
          "output_type": "stream",
          "name": "stdout",
          "text": [
            "[0, 0, 0, 0, 0, 0, 0, 0, 0, 0, 0, 0, 0, 0, 0, 0, 0, 0, 0, 0, 0, 0, 0, 0, 0, 0, 0, 0, 0, 0, 0, 0, 0, 0, 0, 0, 0, 0, 0, 0, 0, 0, 0, 0, 0, 0, 0, 0, 0, 0, 0, 0, 0, 0, 0, 0, 0, 0, 0, 0, 0, 0, 0, 0, 0, 0, 0, 0, 0, 0, 0, 0, 0, 0, 0, 0, 0, 0, 0, 0, 0, 0, 0, 0, 0, 0, 0, 0, 0, 0, 0, 0, 0, 0, 0, 0, 0, 0, 0, 0]\n"
          ]
        }
      ]
    },
    {
      "cell_type": "code",
      "source": [
        "day = [\"\"] * 24\n",
        "print(day)"
      ],
      "metadata": {
        "colab": {
          "base_uri": "https://localhost:8080/"
        },
        "id": "XvBv02q9lM-L",
        "outputId": "493b22ab-ed3a-440c-f372-808ce74fd880"
      },
      "execution_count": 29,
      "outputs": [
        {
          "output_type": "stream",
          "name": "stdout",
          "text": [
            "['', '', '', '', '', '', '', '', '', '', '', '', '', '', '', '', '', '', '', '', '', '', '', '']\n"
          ]
        }
      ]
    },
    {
      "cell_type": "code",
      "source": [
        "timetable = day * 7\n",
        "print(timetable)"
      ],
      "metadata": {
        "colab": {
          "base_uri": "https://localhost:8080/"
        },
        "id": "-OQNAAwjlPjB",
        "outputId": "fea8c8c3-e650-4937-cbcc-f2d1516b4582"
      },
      "execution_count": 30,
      "outputs": [
        {
          "output_type": "stream",
          "name": "stdout",
          "text": [
            "['', '', '', '', '', '', '', '', '', '', '', '', '', '', '', '', '', '', '', '', '', '', '', '', '', '', '', '', '', '', '', '', '', '', '', '', '', '', '', '', '', '', '', '', '', '', '', '', '', '', '', '', '', '', '', '', '', '', '', '', '', '', '', '', '', '', '', '', '', '', '', '', '', '', '', '', '', '', '', '', '', '', '', '', '', '', '', '', '', '', '', '', '', '', '', '', '', '', '', '', '', '', '', '', '', '', '', '', '', '', '', '', '', '', '', '', '', '', '', '', '', '', '', '', '', '', '', '', '', '', '', '', '', '', '', '', '', '', '', '', '', '', '', '', '', '', '', '', '', '', '', '', '', '', '', '', '', '', '', '', '', '', '', '', '', '', '', '']\n"
          ]
        }
      ]
    },
    {
      "cell_type": "code",
      "source": [
        "timetable = [[\"\"] * 24 for day in range(7)]\n",
        "print(timetable)"
      ],
      "metadata": {
        "colab": {
          "base_uri": "https://localhost:8080/"
        },
        "id": "7ckX49cNlTLf",
        "outputId": "3c5ac118-7107-4301-fdea-d9838d00c8af"
      },
      "execution_count": 33,
      "outputs": [
        {
          "output_type": "stream",
          "name": "stdout",
          "text": [
            "[['', '', '', '', '', '', '', '', '', '', '', '', '', '', '', '', '', '', '', '', '', '', '', ''], ['', '', '', '', '', '', '', '', '', '', '', '', '', '', '', '', '', '', '', '', '', '', '', ''], ['', '', '', '', '', '', '', '', '', '', '', '', '', '', '', '', '', '', '', '', '', '', '', ''], ['', '', '', '', '', '', '', '', '', '', '', '', '', '', '', '', '', '', '', '', '', '', '', ''], ['', '', '', '', '', '', '', '', '', '', '', '', '', '', '', '', '', '', '', '', '', '', '', ''], ['', '', '', '', '', '', '', '', '', '', '', '', '', '', '', '', '', '', '', '', '', '', '', ''], ['', '', '', '', '', '', '', '', '', '', '', '', '', '', '', '', '', '', '', '', '', '', '', '']]\n"
          ]
        }
      ]
    },
    {
      "cell_type": "code",
      "source": [],
      "metadata": {
        "id": "JemwqZiklVkU"
      },
      "execution_count": null,
      "outputs": []
    }
  ]
}